{
 "metadata": {
  "name": "",
  "signature": "sha256:d89bc63a39b786c3f09bb042ac01cbd9faa909b95c1a087bebad6ae30553e787"
 },
 "nbformat": 3,
 "nbformat_minor": 0,
 "worksheets": [
  {
   "cells": [
    {
     "cell_type": "markdown",
     "metadata": {},
     "source": [
      "Example usage of RankSVM using pysofia\n",
      "======================================"
     ]
    },
    {
     "cell_type": "code",
     "collapsed": true,
     "input": [
      "%pylab inline\n",
      "from sklearn import cross_validation\n",
      "from pysofia.compat import RankSVM, RankSVMCV"
     ],
     "language": "python",
     "metadata": {},
     "outputs": []
    },
    {
     "cell_type": "code",
     "collapsed": true,
     "input": [
      "n_samples, n_features = 500, 2000\n",
      "X = np.random.randn(n_samples, n_features)\n",
      "w = np.random.randn(n_features)\n",
      "y = (X.dot(w) + np.random.randn(n_samples)).astype(np.int)"
     ],
     "language": "python",
     "metadata": {},
     "outputs": []
    },
    {
     "cell_type": "code",
     "collapsed": true,
     "input": [
      "scores = cross_validation.cross_val_score(RankSVM(max_iter=200), X, y)\n",
      "print(scores)\n",
      "print(np.mean(scores))"
     ],
     "language": "python",
     "metadata": {},
     "outputs": []
    },
    {
     "cell_type": "code",
     "collapsed": true,
     "input": [
      "scores = cross_validation.cross_val_score(RankSVMCV(max_iter=200), X, y)\n",
      "print(scores)\n",
      "print(np.mean(scores))"
     ],
     "language": "python",
     "metadata": {},
     "outputs": []
    },
    {
     "cell_type": "heading",
     "level": 1,
     "metadata": {},
     "source": [
      "My Example"
     ]
    },
    {
     "cell_type": "code",
     "collapsed": true,
     "input": [
      "from pysofia import sofia_ml, "
     ],
     "language": "python",
     "metadata": {},
     "outputs": []
    },
    {
     "cell_type": "code",
     "collapsed": true,
     "input": [
      "sofia_ml."
     ],
     "language": "python",
     "metadata": {},
     "outputs": []
    },
    {
     "cell_type": "code",
     "collapsed": true,
     "input": [
      "coef = sofia_ml.sgd_train(X, y, None, 0.01, n_features=n_features)"
     ],
     "language": "python",
     "metadata": {},
     "outputs": []
    },
    {
     "cell_type": "code",
     "collapsed": true,
     "input": [
      "prediction = sofia_ml.sgd_predict(X, coef[0])"
     ],
     "language": "python",
     "metadata": {},
     "outputs": []
    },
    {
     "cell_type": "code",
     "collapsed": true,
     "input": [
      "prediction"
     ],
     "language": "python",
     "metadata": {},
     "outputs": []
    },
    {
     "cell_type": "code",
     "collapsed": true,
     "input": [],
     "language": "python",
     "metadata": {},
     "outputs": []
    }
   ],
   "metadata": {}
  }
 ]
}