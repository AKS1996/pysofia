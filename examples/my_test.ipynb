{
 "metadata": {
  "name": "",
  "signature": "sha256:9855beb9c094fc648ce08537e1b402c8f13b4fa1001a13a95b916ceb5f0d2fa5"
 },
 "nbformat": 3,
 "nbformat_minor": 0,
 "worksheets": [
  {
   "cells": [
    {
     "cell_type": "code",
     "collapsed": false,
     "input": [
      "import numpy as np"
     ],
     "language": "python",
     "metadata": {},
     "outputs": [],
     "prompt_number": 2
    },
    {
     "cell_type": "code",
     "collapsed": true,
     "input": [
      "n_samples, n_features = 500, 2000\n",
      "X = np.random.randn(n_samples, n_features)\n",
      "w = np.random.randn(n_features)\n",
      "y = (X.dot(w) + np.random.randn(n_samples)).astype(np.int)"
     ],
     "language": "python",
     "metadata": {},
     "outputs": [],
     "prompt_number": 3
    },
    {
     "cell_type": "heading",
     "level": 1,
     "metadata": {},
     "source": [
      "My Example"
     ]
    },
    {
     "cell_type": "code",
     "collapsed": true,
     "input": [
      "from pysofia import sofia_ml"
     ],
     "language": "python",
     "metadata": {},
     "outputs": [],
     "prompt_number": 4
    },
    {
     "cell_type": "code",
     "collapsed": true,
     "input": [
      "coef = sofia_ml.sgd_train(X, y, None, sofia_ml.Learner.h2, n_features=n_features)"
     ],
     "language": "python",
     "metadata": {},
     "outputs": []
    },
    {
     "cell_type": "code",
     "collapsed": true,
     "input": [
      "prediction = sofia_ml.sgd_predict(X, coef[0])"
     ],
     "language": "python",
     "metadata": {},
     "outputs": []
    },
    {
     "cell_type": "code",
     "collapsed": true,
     "input": [
      "prediction"
     ],
     "language": "python",
     "metadata": {},
     "outputs": []
    },
    {
     "cell_type": "code",
     "collapsed": true,
     "input": [],
     "language": "python",
     "metadata": {},
     "outputs": []
    }
   ],
   "metadata": {}
  }
 ]
}