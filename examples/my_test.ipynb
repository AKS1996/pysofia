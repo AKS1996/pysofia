{
 "metadata": {
  "name": "",
  "signature": "sha256:3850d2531f7fcb72b80485d6d7a58da214a6e04149993fa94c835977f4f89c2e"
 },
 "nbformat": 3,
 "nbformat_minor": 0,
 "worksheets": [
  {
   "cells": [
    {
     "cell_type": "code",
     "collapsed": false,
     "input": [
      "import numpy as np"
     ],
     "language": "python",
     "metadata": {},
     "outputs": [],
     "prompt_number": 2
    },
    {
     "cell_type": "code",
     "collapsed": true,
     "input": [
      "n_samples, n_features = 500, 2000\n",
      "X = np.random.randn(n_samples, n_features)\n",
      "w = np.random.randn(n_features)\n",
      "y = (X.dot(w) + np.random.randn(n_samples)).astype(np.int)"
     ],
     "language": "python",
     "metadata": {},
     "outputs": [],
     "prompt_number": 3
    },
    {
     "cell_type": "heading",
     "level": 1,
     "metadata": {},
     "source": [
      "My Example"
     ]
    },
    {
     "cell_type": "code",
     "collapsed": true,
     "input": [
      "from pysofia import sofia_ml"
     ],
     "language": "python",
     "metadata": {},
     "outputs": [],
     "prompt_number": 4
    },
    {
     "cell_type": "code",
     "collapsed": true,
     "input": [
      "coef = sofia_ml.sgd_train(X, y, None, sofia_ml.Learner.h2, n_features=n_features)"
     ],
     "language": "python",
     "metadata": {},
     "outputs": []
    },
    {
     "cell_type": "code",
     "collapsed": true,
     "input": [
      "prediction = sofia_ml.sgd_predict(X, coef)"
     ],
     "language": "python",
     "metadata": {},
     "outputs": []
    },
    {
     "cell_type": "code",
     "collapsed": true,
     "input": [
      "prediction"
     ],
     "language": "python",
     "metadata": {},
     "outputs": []
    },
    {
     "cell_type": "code",
     "collapsed": true,
     "input": [],
     "language": "python",
     "metadata": {},
     "outputs": []
    }
   ],
   "metadata": {}
  }
 ]
}