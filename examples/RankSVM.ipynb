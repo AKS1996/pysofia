{
 "metadata": {
  "name": "",
  "signature": "sha256:f9652c80d99eb5453ecaaa8174811dc0a9d3d00efeb2fba71912aadd1776375e"
 },
 "nbformat": 3,
 "nbformat_minor": 0,
 "worksheets": [
  {
   "cells": [
    {
     "cell_type": "markdown",
     "metadata": {},
     "source": [
      "Example usage of RankSVM using pysofia\n",
      "======================================"
     ]
    },
    {
     "cell_type": "code",
     "collapsed": false,
     "input": [
      "%pylab inline\n",
      "from sklearn import cross_validation\n",
      "from pysofia.compat import RankSVM, RankSVMCV"
     ],
     "language": "python",
     "metadata": {},
     "outputs": [
      {
       "output_type": "stream",
       "stream": "stdout",
       "text": [
        "Populating the interactive namespace from numpy and matplotlib\n"
       ]
      }
     ],
     "prompt_number": 1
    },
    {
     "cell_type": "code",
     "collapsed": false,
     "input": [
      "n_samples, n_features = 500, 2000\n",
      "X = np.random.randn(n_samples, n_features)\n",
      "w = np.random.randn(n_features)\n",
      "y = (X.dot(w) + np.random.randn(n_samples)).astype(np.int)"
     ],
     "language": "python",
     "metadata": {},
     "outputs": [],
     "prompt_number": 2
    },
    {
     "cell_type": "code",
     "collapsed": false,
     "input": [
      "y"
     ],
     "language": "python",
     "metadata": {},
     "outputs": [
      {
       "metadata": {},
       "output_type": "pyout",
       "prompt_number": 3,
       "text": [
        "array([ -79,    0,   66,   30,   70,   45,   14,  -60,    6,  -17,  -63,\n",
        "        -82,  -70,   -1,   -6,   39,   33,   -5,  -21,  -58,   28,   10,\n",
        "         11,   54,   13,   -1,  -44,  -87,  -50,  -70,   17,    1,   36,\n",
        "         13,  105,   60,   58,   35,   44,  -55,   -1,  -10,    2,    5,\n",
        "        -61,  -77,  -26,   78,  -49,   46,  -25,    8,   36,  -17,   49,\n",
        "       -154,  -67,  -72,  -56,  124,  -71,  -72,   -9,   14,  -49,  -74,\n",
        "        -29,  -46,  -36,  -19,  -93,   27,   -7,  -49,  -21,  -43,  -18,\n",
        "         49,   15,  -43,   -8,  -49,  -65,   -2,   74,   42,   58,  -70,\n",
        "        -52,   -8,  -49,   -7,   68,   96,  -46,   22,   22,  -50,  -33,\n",
        "         -2,  -16,   -2,  -77,  -42,   13,  -40,   -7,   72,  -10,  -70,\n",
        "        -11,  -26,  -60,  -20,   60,  -17,  -34,   26,  -35,    4,  -30,\n",
        "         14,  -12,   18,   54,   78,   10,    4,   78,   55,   45,  -91,\n",
        "         41,   54,  -33,   31,  -54,    1,    2,   40,   -2,   16,  -42,\n",
        "          1,  -24,  -40,   43,   31,  -10,   -3,  -20, -116,  -20,  -23,\n",
        "        -46,  -25,   23,   16,  -79,    0,  -13,  -17,  -68,  -35,   79,\n",
        "        -36,  -52,  -10,   15,   13,   14,   34,   32,  -60,   98,   35,\n",
        "         14,   30,   69,    7,  131,  -84,   19,   74,  -10,   40,  -20,\n",
        "        -58,    0,   72,  -56,    6,   33,   -5,  -50,   67,   50,   -9,\n",
        "         31,   26,   31,   39,   34,   57,   -3,   48,  -12,   18,  -90,\n",
        "        -24,   47,  -27,  -19,  -25,  -13,   78,  -37,  -23,   11,  -42,\n",
        "         26,  -95,  -37,  -10,  -55,   44,    3,   -2,  -67,  -21, -108,\n",
        "       -124,    9,  -49,   11,   30,  -25,  -14,   58,   -4,   30,  -27,\n",
        "        -28,   -2,  -42,   41,    3,    1,  -36,   43,   30,   12,   36,\n",
        "         22,   88,   39,   20,  -27,   24,   -1,   33,  -77,  -28,   89,\n",
        "         78,  -31,    1,   77,  -71,  -58,   32,   16,   49,    2,   26,\n",
        "        -42,   21,   64,  -51,  -50,  -27,  -56,  -32,  -16,   11,  -67,\n",
        "         21,   56,  -34,  -36,   14,   35,  -40,   10,  -95,   39,  -74,\n",
        "         75,  -17,  -48,  -43,   63,    0,   -4,   12,   21,   45,   40,\n",
        "         -8,  -31,   42,  -14,  -43,   74,   39,  -23,   24,  -81,  -16,\n",
        "        -11,  -11,   15,   85,  -29,   47,  -58,   12,   17,   32,   31,\n",
        "        -20,   60,  -44,  -15,    4,   60,   24,  -27,   48,   20,   -9,\n",
        "        -34,  -27,   53,  -55,   33,   20,   36,   38,  -42,  -30,   59,\n",
        "          5,   68,  -16,  -49,   19,  -11,   93,  -54,   -4,   31,   32,\n",
        "        -12,    4,  -83,  -83,   40,  -19,  -58,  -12,  110,   94,   13,\n",
        "          0,  -42,   40,  -49,  -62,   29,   45,  -80,  -89,   55,  -44,\n",
        "          8,  -44,   20,   14,  -25,    0,   53,  -58,   41,  -16,   49,\n",
        "         -5,   22,  -47,   -2,   51,   -2,   76,   65,   33,  -14,   20,\n",
        "         14,   19,  -32,   11,   35,  -32,    3,   25,  -52,  -10,  -69,\n",
        "         23,   -6,  -72,  -97,    9,   43,  130,  -37,   21,  -35,  -63,\n",
        "        -74,   46,   39,  -35,   18,  -16,  -57,   47,    8,  -37,   47,\n",
        "        -23,   73,   14,   39,   43,    0,   10,   15,   53,  -47,  -57,\n",
        "         19,   -6,   10,   55,  -79,  -14,   -6,  -68,    3,    1,  -40,\n",
        "         52,  -62,   12,    9,   -3,  -22,   18,  -38,   -6,   37,   56,\n",
        "         24,   14,  -36,    3,   64,  -10,  -33,  -66,   28,   64,  -34,\n",
        "         39,   48,   74,   59,  -34,  -28,   72,  -13,  -15,   49,  -63,\n",
        "        -25,  -11,  -41,   49,   52])"
       ]
      }
     ],
     "prompt_number": 3
    },
    {
     "cell_type": "code",
     "collapsed": false,
     "input": [
      "scores = cross_validation.cross_val_score(RankSVM(max_iter=200), X, y)\n",
      "print(scores)\n",
      "print(np.mean(scores))"
     ],
     "language": "python",
     "metadata": {},
     "outputs": [
      {
       "output_type": "stream",
       "stream": "stdout",
       "text": [
        "[ 0.05145487  0.00969438  0.01222821]\n",
        "0.0244591529354\n"
       ]
      }
     ],
     "prompt_number": 4
    },
    {
     "cell_type": "code",
     "collapsed": false,
     "input": [
      "scores = cross_validation.cross_val_score(RankSVMCV(max_iter=200), X, y)\n",
      "print(scores)\n",
      "print(np.mean(scores))"
     ],
     "language": "python",
     "metadata": {},
     "outputs": [
      {
       "output_type": "stream",
       "stream": "stdout",
       "text": [
        "[ 0.0772185   0.11343867  0.11517947]\n",
        "0.1019455483\n"
       ]
      }
     ],
     "prompt_number": 5
    },
    {
     "cell_type": "code",
     "collapsed": false,
     "input": [],
     "language": "python",
     "metadata": {},
     "outputs": [],
     "prompt_number": 5
    }
   ],
   "metadata": {}
  }
 ]
}