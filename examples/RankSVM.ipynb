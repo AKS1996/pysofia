{
 "worksheets": [
  {
   "cells": [
    {
     "cell_type": "markdown",
     "metadata": {},
     "source": [
      "Example usage of RankSVM using pysofia\n",
      "======================================"
     ]
    },
    {
     "cell_type": "code",
     "metadata": {},
     "outputs": [],
     "input": [
      "%pylab inline\n",
      "from sklearn import cross_validation\n",
      "from pysofia.compat import RankSVM, RankSVMCV"
     ],
     "language": "python"
    },
    {
     "cell_type": "code",
     "metadata": {},
     "outputs": [],
     "input": [
      "n_samples, n_features = 500, 2000\n",
      "X = np.random.randn(n_samples, n_features)\n",
      "w = np.random.randn(n_features)\n",
      "y = (X.dot(w) + np.random.randn(n_samples)).astype(np.int)"
     ],
     "language": "python"
    },
    {
     "cell_type": "code",
     "metadata": {},
     "outputs": [],
     "input": [
      "scores = cross_validation.cross_val_score(RankSVM(max_iter=200), X, y)\n",
      "print(scores)\n",
      "print(np.mean(scores))"
     ],
     "language": "python"
    },
    {
     "cell_type": "code",
     "metadata": {},
     "outputs": [],
     "input": [
      "scores = cross_validation.cross_val_score(RankSVMCV(max_iter=200), X, y)\n",
      "print(scores)\n",
      "print(np.mean(scores))"
     ],
     "language": "python"
    },
    {
     "cell_type": "heading",
     "metadata": {},
     "level": 1,
     "source": [
      "My Example"
     ]
    },
    {
     "cell_type": "code",
     "metadata": {},
     "outputs": [],
     "input": [
      "from pysofia import sofia_ml,"
     ],
     "language": "python"
    },
    {
     "cell_type": "code",
     "metadata": {},
     "outputs": [],
     "input": [
      "sofia_ml."
     ],
     "language": "python"
    },
    {
     "cell_type": "code",
     "metadata": {},
     "outputs": [],
     "input": [
      "coef = sofia_ml.sgd_train(X, y, None, 0.01, n_features=n_features)"
     ],
     "language": "python"
    },
    {
     "cell_type": "code",
     "metadata": {},
     "outputs": [],
     "input": [
      "prediction = sofia_ml.sgd_predict(X, coef[0])"
     ],
     "language": "python"
    },
    {
     "cell_type": "code",
     "metadata": {},
     "outputs": [],
     "input": [
      "prediction"
     ],
     "language": "python"
    },
    {
     "cell_type": "code",
     "metadata": {},
     "outputs": [],
     "input": [
      ""
     ],
     "language": "python"
    }
   ]
  }
 ],
 "cells": [],
 "metadata": {
  "name": "",
  "signature": "sha256:d89bc63a39b786c3f09bb042ac01cbd9faa909b95c1a087bebad6ae30553e787"
 },
 "nbformat": 3,
 "nbformat_minor": 0
}